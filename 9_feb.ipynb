{
 "cells": [
  {
   "cell_type": "markdown",
   "metadata": {},
   "source": [
    "## Q1, Create a vehicle class with an init method having instance variables as name_of_vehicle, max_speed and average_of_vehicle."
   ]
  },
  {
   "cell_type": "markdown",
   "metadata": {},
   "source": [
    "### Ans:--"
   ]
  },
  {
   "cell_type": "code",
   "execution_count": 10,
   "metadata": {},
   "outputs": [
    {
     "name": "stdout",
     "output_type": "stream",
     "text": [
      "name of the vechicle is lambo\n",
      "maximum of speed of lambo is 450km/h\n",
      "average of speed of lambo is 225km/h\n"
     ]
    }
   ],
   "source": [
    "class vechicle:\n",
    "    def __init__(self,name_of_vechile,max_speed,average_speed):\n",
    "        self.name_of_vechile = name_of_vechile\n",
    "        self.max_speed = max_speed\n",
    "        self.average_speed = average_speed\n",
    "\n",
    "    def name(self):\n",
    "        return self.name_of_vechile\n",
    "    def m_speed(self):\n",
    "        return self.max_speed\n",
    "    def m_average_speed(self):\n",
    "        return self.average_speed\n",
    "\n",
    "vec=vechicle(\"lambo\",450,225)\n",
    "\n",
    "print(f\"name of the vechicle is {vec.name()}\")\n",
    "print(f\"maximum of speed of {vec.name()} is {vec.m_speed()}km/h\")\n",
    "print(f\"average of speed of {vec.name()} is {vec.m_average_speed()}km/h\")\n"
   ]
  },
  {
   "cell_type": "markdown",
   "metadata": {},
   "source": [
    "## Q2. Create a child class car from the vehicle class created in Que 1, which will inherit the vehicle class. Create a method named seating_capacity which takes capacity as an argument and returns the name of the vehicle and its seating capacity."
   ]
  },
  {
   "cell_type": "markdown",
   "metadata": {},
   "source": [
    "### Ans:--"
   ]
  },
  {
   "cell_type": "markdown",
   "metadata": {},
   "source": [
    "### The super() function is used to give access to methods and properties of a parent or sibling class. The super() function returns an object that represents the parent class."
   ]
  },
  {
   "cell_type": "code",
   "execution_count": 15,
   "metadata": {},
   "outputs": [
    {
     "name": "stdout",
     "output_type": "stream",
     "text": [
      "Vehicle: Sedan\n",
      "Max Speed: 180 km/h\n",
      "Average Speed: 50 km/h\n",
      "Sedan has a seating capacity of 5 people.\n"
     ]
    }
   ],
   "source": [
    "class Car(vechicle):\n",
    "    def __init__(self, name_of_vechile, max_speed, average_speed):\n",
    "        super().__init__(name_of_vechile, max_speed, average_speed)\n",
    "\n",
    "    def seating_capacity(self, capacity):\n",
    "        return f\"{self.name_of_vechile} has a seating capacity of {capacity} people.\"\n",
    "\n",
    "car_instance = Car(\"Sedan\", 180, 50)\n",
    "print(f\"Vehicle: {car_instance.name_of_vechile}\")\n",
    "print(f\"Max Speed: {car_instance.max_speed} km/h\")\n",
    "print(f\"Average Speed: {car_instance.average_speed} km/h\")\n",
    "\n",
    "capacity_result = car_instance.seating_capacity(5)\n",
    "print(capacity_result)\n"
   ]
  },
  {
   "cell_type": "markdown",
   "metadata": {},
   "source": [
    "## Q3. What is multiple inheritance? Write a python code to demonstrate multiple inheritance."
   ]
  },
  {
   "cell_type": "markdown",
   "metadata": {},
   "source": [
    "### Ans:--"
   ]
  },
  {
   "cell_type": "markdown",
   "metadata": {},
   "source": [
    "#### Multiple inheritance in Python occurs when a class is derived from more than one base classes. This means that the child class inherits attributes and methods from multiple parent classes."
   ]
  },
  {
   "cell_type": "code",
   "execution_count": 17,
   "metadata": {},
   "outputs": [
    {
     "name": "stdout",
     "output_type": "stream",
     "text": [
      "Starting engine\n",
      "Powering on\n",
      "inherite all prorites from engine and motor\n"
     ]
    }
   ],
   "source": [
    "class engine:\n",
    "    def start(self):\n",
    "        print(\"Starting engine\")\n",
    "\n",
    "class motor:\n",
    "    def power(self):\n",
    "        print(\"Powering on\")\n",
    "\n",
    "class m_inh(engine,motor):\n",
    "    def inh(self):\n",
    "        print(\"inherite all prorites from engine and motor\")\n",
    "\n",
    "all=m_inh()\n",
    "all.start()\n",
    "all.power()\n",
    "all.inh()"
   ]
  },
  {
   "cell_type": "markdown",
   "metadata": {},
   "source": [
    "## Q4. What are getter and setter in python? Create a class and create a getter and a setter method in this class."
   ]
  },
  {
   "cell_type": "markdown",
   "metadata": {},
   "source": [
    "### Ans:--"
   ]
  },
  {
   "cell_type": "markdown",
   "metadata": {},
   "source": [
    "#### getter and setter methods are used to access and modify the private attributes of a class, respectively. They provide a way to encapsulate the internal state of an object and control how it is accessed or modified from outside the class."
   ]
  },
  {
   "cell_type": "code",
   "execution_count": 21,
   "metadata": {},
   "outputs": [
    {
     "name": "stdout",
     "output_type": "stream",
     "text": [
      "car name:tata\n",
      "car model :harrier\n",
      "car year:2024\n",
      "update car name: mahindra\n",
      "update car model :thar\n",
      "update year: 2025\n"
     ]
    }
   ],
   "source": [
    "class car:\n",
    "    def __init__(self,name,model,year):\n",
    "        self.name = name\n",
    "        self.model = model\n",
    "        self.year = year\n",
    "\n",
    "    def get_name(self):\n",
    "        return self.name\n",
    "    def get_model(self):\n",
    "        return self.model\n",
    "    def get_year(self):\n",
    "        return self.year\n",
    "    \n",
    "    def set_name(self, new_name):\n",
    "         self.name=new_name\n",
    "\n",
    "    def set_model(self, new_model):\n",
    "         self.model=new_model\n",
    "\n",
    "    def set_year(self, new_year):\n",
    "         self.year=new_year\n",
    "\n",
    "car_details=car(\"tata\",\"harrier\",2024)\n",
    "\n",
    "print(f\"car name:{car_details.get_name()}\")\n",
    "print(f\"car model :{car_details.get_model()}\")\n",
    "print(f\"car year:{car_details.get_year()}\")\n",
    "\n",
    "car_details.set_name(\"mahindra\")\n",
    "car_details.set_model(\"thar\")\n",
    "car_details.set_year(2025)\n",
    "\n",
    "print(f\"update car name: {car_details.get_name()}\")\n",
    "print(f\"update car model :{car_details.get_model()}\")\n",
    "print(f\"update year: {car_details.get_year()}\")"
   ]
  },
  {
   "cell_type": "markdown",
   "metadata": {},
   "source": [
    "## Q5.What is method overriding in python? Write a python code to demonstrate method overriding."
   ]
  },
  {
   "cell_type": "markdown",
   "metadata": {},
   "source": [
    "### Ans:--"
   ]
  },
  {
   "cell_type": "markdown",
   "metadata": {},
   "source": [
    "Method overriding in Python occurs when a subclass provides a specific implementation for a method that is already defined in its superclass. This allows a subclass to provide a specialized version of a method without changing the method signature."
   ]
  },
  {
   "cell_type": "code",
   "execution_count": 28,
   "metadata": {},
   "outputs": [
    {
     "name": "stdout",
     "output_type": "stream",
     "text": [
      "genaric sound\n",
      "wow\n",
      "mow\n",
      "genaric sound\n"
     ]
    }
   ],
   "source": [
    "class animal:\n",
    "    def speak(self):\n",
    "        print(\"genaric sound\")\n",
    "\n",
    "class dog(animal):\n",
    "    def speak(self):\n",
    "        print(\"wow\")\n",
    "\n",
    "class cat(animal):\n",
    "     def speak(self):\n",
    "         print(\"mow\")\n",
    "\n",
    "class snake(animal):\n",
    "        pass\n",
    "\n",
    "ani=animal()\n",
    "ani.speak()\n",
    "\n",
    "Dog=dog()\n",
    "Dog.speak()\n",
    "\n",
    "Cat=cat()\n",
    "Cat.speak()\n",
    "\n",
    "Snake=snake()\n",
    "Snake.speak()\n"
   ]
  },
  {
   "cell_type": "code",
   "execution_count": null,
   "metadata": {},
   "outputs": [],
   "source": []
  }
 ],
 "metadata": {
  "kernelspec": {
   "display_name": "Python 3",
   "language": "python",
   "name": "python3"
  },
  "language_info": {
   "codemirror_mode": {
    "name": "ipython",
    "version": 3
   },
   "file_extension": ".py",
   "mimetype": "text/x-python",
   "name": "python",
   "nbconvert_exporter": "python",
   "pygments_lexer": "ipython3",
   "version": "3.11.2"
  }
 },
 "nbformat": 4,
 "nbformat_minor": 2
}
